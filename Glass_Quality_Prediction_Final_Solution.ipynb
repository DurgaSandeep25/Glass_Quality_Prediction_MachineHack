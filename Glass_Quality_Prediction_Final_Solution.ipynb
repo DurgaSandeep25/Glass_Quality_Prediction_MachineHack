{
  "nbformat": 4,
  "nbformat_minor": 0,
  "metadata": {
    "colab": {
      "name": "Glass Quality Prediction.ipynb",
      "provenance": [],
      "collapsed_sections": []
    },
    "kernelspec": {
      "name": "python3",
      "display_name": "Python 3"
    }
  },
  "cells": [
    {
      "cell_type": "code",
      "metadata": {
        "id": "gAvDkiJl8kuR",
        "colab_type": "code",
        "outputId": "8c00259f-db7b-4ac9-dbc2-d73a0f4eb333",
        "colab": {
          "base_uri": "https://localhost:8080/",
          "height": 122
        }
      },
      "source": [
        "from google.colab import drive\n",
        "drive.mount('/content/drive/')"
      ],
      "execution_count": 1,
      "outputs": [
        {
          "output_type": "stream",
          "text": [
            "Go to this URL in a browser: https://accounts.google.com/o/oauth2/auth?client_id=947318989803-6bn6qk8qdgf4n4g3pfee6491hc0brc4i.apps.googleusercontent.com&redirect_uri=urn%3aietf%3awg%3aoauth%3a2.0%3aoob&response_type=code&scope=email%20https%3a%2f%2fwww.googleapis.com%2fauth%2fdocs.test%20https%3a%2f%2fwww.googleapis.com%2fauth%2fdrive%20https%3a%2f%2fwww.googleapis.com%2fauth%2fdrive.photos.readonly%20https%3a%2f%2fwww.googleapis.com%2fauth%2fpeopleapi.readonly\n",
            "\n",
            "Enter your authorization code:\n",
            "··········\n",
            "Mounted at /content/drive/\n"
          ],
          "name": "stdout"
        }
      ]
    },
    {
      "cell_type": "code",
      "metadata": {
        "id": "q-ijvIwZBtLP",
        "colab_type": "code",
        "colab": {}
      },
      "source": [
        "!pip install ngboost"
      ],
      "execution_count": 0,
      "outputs": []
    },
    {
      "cell_type": "code",
      "metadata": {
        "id": "ZRJ0oQZXZgfI",
        "colab_type": "code",
        "colab": {
          "base_uri": "https://localhost:8080/",
          "height": 360
        },
        "outputId": "69aec550-89df-4353-9b75-5bd09442218d"
      },
      "source": [
        "!pip install h2o"
      ],
      "execution_count": 2,
      "outputs": [
        {
          "output_type": "stream",
          "text": [
            "Collecting h2o\n",
            "\u001b[?25l  Downloading https://files.pythonhosted.org/packages/e1/f7/31336c8b580907146f9f71a814f67341a7d531722ec93827af063bd91c86/h2o-3.30.0.3.tar.gz (128.3MB)\n",
            "\u001b[K     |████████████████████████████████| 128.3MB 55kB/s \n",
            "\u001b[?25hRequirement already satisfied: requests in /usr/local/lib/python3.6/dist-packages (from h2o) (2.23.0)\n",
            "Requirement already satisfied: tabulate in /usr/local/lib/python3.6/dist-packages (from h2o) (0.8.7)\n",
            "Requirement already satisfied: future in /usr/local/lib/python3.6/dist-packages (from h2o) (0.16.0)\n",
            "Collecting colorama>=0.3.8\n",
            "  Downloading https://files.pythonhosted.org/packages/c9/dc/45cdef1b4d119eb96316b3117e6d5708a08029992b2fee2c143c7a0a5cc5/colorama-0.4.3-py2.py3-none-any.whl\n",
            "Requirement already satisfied: certifi>=2017.4.17 in /usr/local/lib/python3.6/dist-packages (from requests->h2o) (2020.4.5.1)\n",
            "Requirement already satisfied: urllib3!=1.25.0,!=1.25.1,<1.26,>=1.21.1 in /usr/local/lib/python3.6/dist-packages (from requests->h2o) (1.24.3)\n",
            "Requirement already satisfied: chardet<4,>=3.0.2 in /usr/local/lib/python3.6/dist-packages (from requests->h2o) (3.0.4)\n",
            "Requirement already satisfied: idna<3,>=2.5 in /usr/local/lib/python3.6/dist-packages (from requests->h2o) (2.9)\n",
            "Building wheels for collected packages: h2o\n",
            "  Building wheel for h2o (setup.py) ... \u001b[?25l\u001b[?25hdone\n",
            "  Created wheel for h2o: filename=h2o-3.30.0.3-py2.py3-none-any.whl size=128358449 sha256=d00c6a6d41173b477f0824f30fe513012608db4eadff974208ae3dd95541570b\n",
            "  Stored in directory: /root/.cache/pip/wheels/8e/66/2c/0c2137d104352c2e6fb1991d496e5857ee17d39884b5b25b96\n",
            "Successfully built h2o\n",
            "Installing collected packages: colorama, h2o\n",
            "Successfully installed colorama-0.4.3 h2o-3.30.0.3\n"
          ],
          "name": "stdout"
        }
      ]
    },
    {
      "cell_type": "code",
      "metadata": {
        "id": "a_dMvNNK8tXI",
        "colab_type": "code",
        "colab": {
          "base_uri": "https://localhost:8080/",
          "height": 71
        },
        "outputId": "14733704-53da-475f-b83f-0819fed15366"
      },
      "source": [
        "import pandas as pd\n",
        "import numpy as np\n",
        "import seaborn as sns\n",
        "import matplotlib.pyplot as plt\n",
        "import os\n",
        "import random\n",
        "\n",
        "from sklearn.model_selection import train_test_split\n",
        "import time\n",
        "from sklearn.metrics import log_loss, accuracy_score\n",
        "\n",
        "from lightgbm import LGBMClassifier\n",
        "import xgboost as xgb\n",
        "import warnings\n",
        "warnings.filterwarnings(\"ignore\")\n",
        "\n",
        "# from ngboost import NGBClassifier\n",
        "# from ngboost.ngboost import NGBoost\n",
        "# from ngboost.scores import LogScore, MLE\n",
        "# from ngboost.distns import Bernoulli, categorical\n",
        "# from ngboost.learners import default_tree_learner"
      ],
      "execution_count": 3,
      "outputs": [
        {
          "output_type": "stream",
          "text": [
            "/usr/local/lib/python3.6/dist-packages/statsmodels/tools/_testing.py:19: FutureWarning: pandas.util.testing is deprecated. Use the functions in the public API at pandas.testing instead.\n",
            "  import pandas.util.testing as tm\n"
          ],
          "name": "stderr"
        }
      ]
    },
    {
      "cell_type": "code",
      "metadata": {
        "id": "Ql1A-sfOLTHP",
        "colab_type": "code",
        "colab": {}
      },
      "source": [
        "train_data = pd.read_csv('/content/drive/My Drive/Glass Quality Prediction/Train.csv')\n",
        "test_data = pd.read_csv('/content/drive/My Drive/Glass Quality Prediction/Test.csv')\n",
        "ss = pd.read_excel('/content/drive/My Drive/Glass Quality Prediction/Sample_Submission.xlsx')"
      ],
      "execution_count": 0,
      "outputs": []
    },
    {
      "cell_type": "markdown",
      "metadata": {
        "id": "-MZCRzk8N5-A",
        "colab_type": "text"
      },
      "source": [
        "# Exploratory Data Analysis"
      ]
    },
    {
      "cell_type": "code",
      "metadata": {
        "id": "yw5rMdM0N5VA",
        "colab_type": "code",
        "outputId": "886a6543-3c78-4683-eb71-d01ceaf2bed6",
        "colab": {
          "base_uri": "https://localhost:8080/",
          "height": 306
        }
      },
      "source": [
        "train_data.nunique()"
      ],
      "execution_count": 5,
      "outputs": [
        {
          "output_type": "execute_result",
          "data": {
            "text/plain": [
              "grade_A_Component_1       2\n",
              "grade_A_Component_2       2\n",
              "max_luminosity          131\n",
              "thickness               143\n",
              "xmin                    775\n",
              "xmax                    811\n",
              "ymin                   1358\n",
              "ymax                   1358\n",
              "pixel_area              813\n",
              "log_area               1358\n",
              "x_component_1             2\n",
              "x_component_2             2\n",
              "x_component_3             2\n",
              "x_component_4             2\n",
              "x_component_5             2\n",
              "class                     2\n",
              "dtype: int64"
            ]
          },
          "metadata": {
            "tags": []
          },
          "execution_count": 5
        }
      ]
    },
    {
      "cell_type": "code",
      "metadata": {
        "id": "eya3nkFyA0m8",
        "colab_type": "code",
        "colab": {
          "base_uri": "https://localhost:8080/",
          "height": 1000
        },
        "outputId": "9f5b7f67-2082-4b0b-abb3-2da0d872445e"
      },
      "source": [
        "col = 'x_component_1'\n",
        "sns.countplot(train_data[col], hue=train_data['class'])\n",
        "plt.show()\n",
        "\n",
        "col = 'x_component_2'\n",
        "sns.countplot(train_data[col], hue=train_data['class'])\n",
        "plt.show()\n",
        "\n",
        "col = 'x_component_3'\n",
        "sns.countplot(train_data[col], hue=train_data['class'])\n",
        "plt.show()\n",
        "\n",
        "col = 'x_component_4'\n",
        "sns.countplot(train_data[col], hue=train_data['class'])\n",
        "plt.show()\n",
        "\n",
        "col = 'x_component_5'\n",
        "sns.countplot(train_data[col], hue=train_data['class'])\n",
        "plt.show()"
      ],
      "execution_count": 7,
      "outputs": [
        {
          "output_type": "display_data",
          "data": {
            "image/png": "[encoded data removed]",
            "text/plain": [
              "<Figure size 432x288 with 1 Axes>"
            ]
          },
          "metadata": {
            "tags": [],
            "needs_background": "light"
          }
        },
        {
          "output_type": "display_data",
          "data": {
            "image/png": "[encoded data removed]",
            "text/plain": [
              "<Figure size 432x288 with 1 Axes>"
            ]
          },
          "metadata": {
            "tags": [],
            "needs_background": "light"
          }
        },
        {
          "output_type": "display_data",
          "data": {
            "image/png": "[encoded data removed]",
            "text/plain": [
              "<Figure size 432x288 with 1 Axes>"
            ]
          },
          "metadata": {
            "tags": [],
            "needs_background": "light"
          }
        },
        {
          "output_type": "display_data",
          "data": {
            "image/png": "[encoded data removed]",
            "text/plain": [
              "<Figure size 432x288 with 1 Axes>"
            ]
          },
          "metadata": {
            "tags": [],
            "needs_background": "light"
          }
        },
        {
          "output_type": "display_data",
          "data": {
            "image/png": "[encoded data removed]",
            "text/plain": [
              "<Figure size 432x288 with 1 Axes>"
            ]
          },
          "metadata": {
            "tags": [],
            "needs_background": "light"
          }
        }
      ]
    },
    {
      "cell_type": "code",
      "metadata": {
        "id": "osouB7x0BlTA",
        "colab_type": "code",
        "colab": {
          "base_uri": "https://localhost:8080/",
          "height": 1000
        },
        "outputId": "73b00ea9-c812-4791-9620-4fb4d63866ab"
      },
      "source": [
        "# You can see that xmin, xmax or ymin, ymax or logarea and pixel area are having relationship\n",
        "plt.scatter(train_data['log_area'],train_data['pixel_area'])\n",
        "plt.show()\n",
        "\n",
        "plt.scatter(train_data['xmin'],train_data['xmax'])\n",
        "plt.show()\n",
        "\n",
        "plt.scatter(train_data['ymin'],train_data['ymax'])\n",
        "plt.show()\n",
        "\n",
        "plt.scatter(train_data['max_luminosity'],train_data['thickness']) # this doesn;t have any relationship though\n",
        "plt.show()"
      ],
      "execution_count": 13,
      "outputs": [
        {
          "output_type": "display_data",
          "data": {
            "image/png": "[encoded data removed]",
            "text/plain": [
              "<Figure size 432x288 with 1 Axes>"
            ]
          },
          "metadata": {
            "tags": [],
            "needs_background": "light"
          }
        },
        {
          "output_type": "display_data",
          "data": {
            "image/png": "[encoded data removed]",
            "text/plain": [
              "<Figure size 432x288 with 1 Axes>"
            ]
          },
          "metadata": {
            "tags": [],
            "needs_background": "light"
          }
        },
        {
          "output_type": "display_data",
          "data": {
            "image/png": "[encoded data removed]",
            "text/plain": [
              "<Figure size 432x288 with 1 Axes>"
            ]
          },
          "metadata": {
            "tags": [],
            "needs_background": "light"
          }
        },
        {
          "output_type": "display_data",
          "data": {
            "image/png": "[encoded data removed]",
            "text/plain": [
              "<Figure size 432x288 with 1 Axes>"
            ]
          },
          "metadata": {
            "tags": [],
            "needs_background": "light"
          }
        }
      ]
    },
    {
      "cell_type": "code",
      "metadata": {
        "id": "OESHBkET5Kka",
        "colab_type": "code",
        "outputId": "caed3b83-9b3f-4e41-ce36-4522948ef974",
        "colab": {
          "base_uri": "https://localhost:8080/",
          "height": 587
        }
      },
      "source": [
        "# Both tells that log_area is redundant feature\n",
        "plt.scatter(train_data['log_area'],train_data['pixel_area'])\n",
        "plt.show()\n",
        "\n",
        "col = 'pixel_area'\n",
        "col2 = 'log_area'\n",
        "plt.figure(figsize=(10,5))\n",
        "sns.distplot(train_data[train_data['class'] == 1][col]-train_data[train_data['class'] == 1][col2], color='b', label='Class1', hist=False)\n",
        "sns.distplot(train_data[train_data['class'] == 2][col]-train_data[train_data['class'] == 2][col2], color='g', label='Class2', hist=False)\n",
        "plt.legend(loc='best')"
      ],
      "execution_count": 14,
      "outputs": [
        {
          "output_type": "display_data",
          "data": {
            "image/png": "[encoded data removed]",
            "text/plain": [
              "<Figure size 432x288 with 1 Axes>"
            ]
          },
          "metadata": {
            "tags": [],
            "needs_background": "light"
          }
        },
        {
          "output_type": "execute_result",
          "data": {
            "text/plain": [
              "<matplotlib.legend.Legend at 0x7fe1fe6e2b38>"
            ]
          },
          "metadata": {
            "tags": []
          },
          "execution_count": 14
        },
        {
          "output_type": "display_data",
          "data": {
            "image/png": "[encoded data removed]",
            "text/plain": [
              "<Figure size 720x360 with 1 Axes>"
            ]
          },
          "metadata": {
            "tags": [],
            "needs_background": "light"
          }
        }
      ]
    },
    {
      "cell_type": "markdown",
      "metadata": {
        "id": "xvj2y5ieRbYx",
        "colab_type": "text"
      },
      "source": [
        "# Observations from EDA\n",
        "1. From above x-components countplot we can say that whenever any one of the x-component is 1 then it is surely class 1. When it is zero, we need to think of it. Around 609 data-points are classified without training. But AutoML GBM is taking care of this automatically.\n",
        "2. Lineaarly dependent features are also found from these"
      ]
    },
    {
      "cell_type": "code",
      "metadata": {
        "id": "7FwM0-85Rag-",
        "colab_type": "code",
        "outputId": "6e950314-23f7-4774-8305-c183a8b96a93",
        "colab": {
          "base_uri": "https://localhost:8080/",
          "height": 34
        }
      },
      "source": [
        "# Using x_components we can predict almost 45% of data which is awesome:)\n",
        "print(\"Train prediction without training : {:.2f}%\".format((train_data[(train_data['x_component_1'] == 1) | (train_data['x_component_2'] == 1) | \n",
        "                                                                       (train_data['x_component_3'] == 1) | (train_data['x_component_4'] == 1) | \n",
        "                                                                       (train_data['x_component_5'] == 1)].shape[0] / train_data.shape[0]) * 100))"
      ],
      "execution_count": 15,
      "outputs": [
        {
          "output_type": "stream",
          "text": [
            "Train prediction without training : 44.85%\n"
          ],
          "name": "stdout"
        }
      ]
    },
    {
      "cell_type": "code",
      "metadata": {
        "id": "APuOPrK1RO5g",
        "colab_type": "code",
        "outputId": "356b1ed4-f47c-4407-d8ec-040c24923241",
        "colab": {
          "base_uri": "https://localhost:8080/",
          "height": 34
        }
      },
      "source": [
        "train_data[train_data[['x_component_5','x_component_1','x_component_2','x_component_3','x_component_4']].sum(axis=1) == 1].shape"
      ],
      "execution_count": 18,
      "outputs": [
        {
          "output_type": "execute_result",
          "data": {
            "text/plain": [
              "(609, 16)"
            ]
          },
          "metadata": {
            "tags": []
          },
          "execution_count": 18
        }
      ]
    },
    {
      "cell_type": "code",
      "metadata": {
        "id": "vvcjhT8NT45a",
        "colab_type": "code",
        "outputId": "330d88a9-77ed-447a-d626-9ad2197a9391",
        "colab": {
          "base_uri": "https://localhost:8080/",
          "height": 51
        }
      },
      "source": [
        "# This part is taken from machine hack solutions in one of their hackathons, I am using that as a reference\n",
        "def get_rules_ids(df):\n",
        "    idx_df = df[(df['x_component_1'] == 1) | (df['x_component_2'] == 1) | (df['x_component_3'] == 1) |(df['x_component_4'] == 1) |\n",
        "                (df['x_component_5'] == 1)].index\n",
        "    return idx_df\n",
        "\n",
        "idx_train = get_rules_ids(train_data)\n",
        "idx_test = get_rules_ids(test_data)\n",
        "\n",
        "train_pre = train_data.copy()\n",
        "test_pre = test_data.copy()\n",
        "\n",
        "train_pre.drop(idx_train, axis=0, inplace=True)\n",
        "test_pre.drop(idx_test, axis=0, inplace=True)\n",
        "\n",
        "\n",
        "train_pre.reset_index(inplace=True)\n",
        "test_pre.reset_index(inplace=True)\n",
        "\n",
        "train_pre.drop(['x_component_5','x_component_1','x_component_2','x_component_3','x_component_4',\n",
        "                'log_area','xmax','ymax'],\n",
        "               axis=1, inplace=True)\n",
        "test_pre.drop(['x_component_5','x_component_1','x_component_2','x_component_3','x_component_4',\n",
        "               'log_area','xmax','ymax'],\n",
        "              axis=1, inplace=True)\n",
        "\n",
        "# # Following turned out to be top 4 features in xgg shallow classifier\n",
        "# train_pre['ydiff'] = train_pre['ymax'] - train_pre['ymin']\n",
        "# test_pre['ydiff'] = test_pre['ymax'] - test_pre['ymin']\n",
        "\n",
        "# train_pre['ydiv'] = train_pre['ymax']/train_pre['ymin']\n",
        "# test_pre['ydiv'] = test_pre['ymax']/test_pre['ymin']\n",
        "\n",
        "# train_pre['xdiff'] = train_pre['xmax'] - train_pre['xmin']\n",
        "# test_pre['xdiff'] = test_pre['xmax'] - test_pre['xmin']\n",
        "\n",
        "# train_pre['xdiv'] = train_pre['xmax']/train_pre['xmin']\n",
        "# test_pre['xdiv'] = test_pre['xmax']/test_pre['xmin']\n",
        "\n",
        "# train_pre['feat1'] = train_data['thickness']*train_data['grade_A_Component_1']\n",
        "# test_pre['feat1'] = test_data['thickness']*test_data['grade_A_Component_1']\n",
        "\n",
        "# train_pre['feat2'] = train_data['max_luminosity']*train_data['grade_A_Component_2']\n",
        "# test_pre['feat2'] = test_data['max_luminosity']*test_data['grade_A_Component_2']\n",
        "\n",
        "train_pre.to_csv(\"/content/drive/My Drive/Glass Quality Prediction/Train4.csv\", index=False)\n",
        "test_pre.to_csv(\"/content/drive/My Drive/Glass Quality Prediction/Test4.csv\", index=False)\n",
        "\n",
        "print(\"New Train Shape : {}\\nNew Test Shape :  {}\".format(train_pre.shape, test_pre.shape))"
      ],
      "execution_count": 19,
      "outputs": [
        {
          "output_type": "stream",
          "text": [
            "New Train Shape : (749, 9)\n",
            "New Test Shape :  (326, 8)\n"
          ],
          "name": "stdout"
        }
      ]
    },
    {
      "cell_type": "markdown",
      "metadata": {
        "id": "3IILCDuivxE9",
        "colab_type": "text"
      },
      "source": [
        "# Feature Engineering"
      ]
    },
    {
      "cell_type": "code",
      "metadata": {
        "id": "vP6gS6ABvzWj",
        "colab_type": "code",
        "colab": {}
      },
      "source": [
        "# Above 203 its class 2(check manually setting this),\n",
        "# atleast we can say above 300 surely class2, lets just not overfit this condition\n",
        "# test_data[(test_data['thickness']*test_data['grade_A_Component_1'])>300] did manually here, sub4\n",
        "feat1 = train_data['thickness']*train_data['grade_A_Component_1'] \n",
        "\n",
        "# its now >180 of this can be class 2 lets check this submission\n",
        "feat2 = train_data['max_luminosity']*train_data['grade_A_Component_2']\n",
        "#feat2 = np.log(train_data['thickness']*train_data['max_luminosity'])--> already solved that row by feat 1"
      ],
      "execution_count": 0,
      "outputs": []
    },
    {
      "cell_type": "code",
      "metadata": {
        "id": "XwdF4rzRROrF",
        "colab_type": "code",
        "outputId": "9e7ac389-a0e3-421f-9bc9-8fee54ff8454",
        "colab": {
          "base_uri": "https://localhost:8080/",
          "height": 312
        }
      },
      "source": [
        "clf = xgb.XGBClassifier(max_depth=4).fit(train_pre.drop(['class','index'],axis=1),train_pre['class'])\n",
        "xgb.plot_importance(clf)"
      ],
      "execution_count": 21,
      "outputs": [
        {
          "output_type": "execute_result",
          "data": {
            "text/plain": [
              "<matplotlib.axes._subplots.AxesSubplot at 0x7fe201926438>"
            ]
          },
          "metadata": {
            "tags": []
          },
          "execution_count": 21
        },
        {
          "output_type": "display_data",
          "data": {
            "image/png": "[encoded data removed]",
            "text/plain": [
              "<Figure size 432x288 with 1 Axes>"
            ]
          },
          "metadata": {
            "tags": [],
            "needs_background": "light"
          }
        }
      ]
    },
    {
      "cell_type": "markdown",
      "metadata": {
        "id": "PUOEW1MhYFVD",
        "colab_type": "text"
      },
      "source": [
        "# AutoML"
      ]
    },
    {
      "cell_type": "code",
      "metadata": {
        "id": "FIgQQqb7YEWe",
        "colab_type": "code",
        "outputId": "f42344f1-6845-4904-b14f-08b09acbcdca",
        "colab": {
          "base_uri": "https://localhost:8080/",
          "height": 389
        }
      },
      "source": [
        "import h2o\n",
        "h2o.init()"
      ],
      "execution_count": 0,
      "outputs": [
        {
          "output_type": "stream",
          "text": [
            "Checking whether there is an H2O instance running at http://localhost:54321 . connected.\n"
          ],
          "name": "stdout"
        },
        {
          "output_type": "display_data",
          "data": {
            "text/html": [
              "<div style=\"overflow:auto\"><table style=\"width:50%\"><tr><td>H2O_cluster_uptime:</td>\n",
              "<td>21 mins 28 secs</td></tr>\n",
              "<tr><td>H2O_cluster_timezone:</td>\n",
              "<td>Etc/UTC</td></tr>\n",
              "<tr><td>H2O_data_parsing_timezone:</td>\n",
              "<td>UTC</td></tr>\n",
              "<tr><td>H2O_cluster_version:</td>\n",
              "<td>3.30.0.3</td></tr>\n",
              "<tr><td>H2O_cluster_version_age:</td>\n",
              "<td>10 days </td></tr>\n",
              "<tr><td>H2O_cluster_name:</td>\n",
              "<td>H2O_from_python_unknownUser_49ppho</td></tr>\n",
              "<tr><td>H2O_cluster_total_nodes:</td>\n",
              "<td>1</td></tr>\n",
              "<tr><td>H2O_cluster_free_memory:</td>\n",
              "<td>3.047 Gb</td></tr>\n",
              "<tr><td>H2O_cluster_total_cores:</td>\n",
              "<td>2</td></tr>\n",
              "<tr><td>H2O_cluster_allowed_cores:</td>\n",
              "<td>2</td></tr>\n",
              "<tr><td>H2O_cluster_status:</td>\n",
              "<td>locked, healthy</td></tr>\n",
              "<tr><td>H2O_connection_url:</td>\n",
              "<td>http://localhost:54321</td></tr>\n",
              "<tr><td>H2O_connection_proxy:</td>\n",
              "<td>{\"http\": null, \"https\": null}</td></tr>\n",
              "<tr><td>H2O_internal_security:</td>\n",
              "<td>False</td></tr>\n",
              "<tr><td>H2O_API_Extensions:</td>\n",
              "<td>Amazon S3, XGBoost, Algos, AutoML, Core V3, TargetEncoder, Core V4</td></tr>\n",
              "<tr><td>Python_version:</td>\n",
              "<td>3.6.9 final</td></tr></table></div>"
            ],
            "text/plain": [
              "--------------------------  ------------------------------------------------------------------\n",
              "H2O_cluster_uptime:         21 mins 28 secs\n",
              "H2O_cluster_timezone:       Etc/UTC\n",
              "H2O_data_parsing_timezone:  UTC\n",
              "H2O_cluster_version:        3.30.0.3\n",
              "H2O_cluster_version_age:    10 days\n",
              "H2O_cluster_name:           H2O_from_python_unknownUser_49ppho\n",
              "H2O_cluster_total_nodes:    1\n",
              "H2O_cluster_free_memory:    3.047 Gb\n",
              "H2O_cluster_total_cores:    2\n",
              "H2O_cluster_allowed_cores:  2\n",
              "H2O_cluster_status:         locked, healthy\n",
              "H2O_connection_url:         http://localhost:54321\n",
              "H2O_connection_proxy:       {\"http\": null, \"https\": null}\n",
              "H2O_internal_security:      False\n",
              "H2O_API_Extensions:         Amazon S3, XGBoost, Algos, AutoML, Core V3, TargetEncoder, Core V4\n",
              "Python_version:             3.6.9 final\n",
              "--------------------------  ------------------------------------------------------------------"
            ]
          },
          "metadata": {
            "tags": []
          }
        }
      ]
    },
    {
      "cell_type": "code",
      "metadata": {
        "id": "AVqPFSC1YES_",
        "colab_type": "code",
        "outputId": "1b8c7ce4-44c9-46b7-f275-7d9c025eb6e1",
        "colab": {
          "base_uri": "https://localhost:8080/",
          "height": 51
        }
      },
      "source": [
        "from h2o.automl import H2OAutoML\n",
        "\n",
        "df = h2o.import_file('/content/drive/My Drive/Glass Quality Prediction/Train4.csv')\n",
        "testing_df = h2o.import_file('/content/drive/My Drive/Glass Quality Prediction/Test4.csv')\n",
        "\n",
        "#Since this is classification problem, converting target as factor\n",
        "df['class'] = df['class'].asfactor()\n",
        "\n",
        "train,test,valid = df.split_frame(ratios=[.85,0.10],seed=11)\n",
        "\n",
        "y = \"class\"\n",
        "x = df.columns\n",
        "x.remove(y)\n",
        "\n",
        "aml = H2OAutoML(nfolds=10,\n",
        "    balance_classes=True,\n",
        "    class_sampling_factors=None,\n",
        "    max_after_balance_size=5.0,\n",
        "    max_runtime_secs=None,\n",
        "    max_runtime_secs_per_model=None,\n",
        "    max_models=None,\n",
        "    stopping_metric='AUTO',\n",
        "    stopping_tolerance=None,\n",
        "    stopping_rounds=None,\n",
        "    seed=4,\n",
        "    project_name=None,\n",
        "    exclude_algos=['DeepLearning'],\n",
        "    include_algos=None,\n",
        "    exploitation_ratio=0,\n",
        "    modeling_plan=None,\n",
        "    monotone_constraints=None,\n",
        "    algo_parameters=None,\n",
        "    keep_cross_validation_predictions=True,\n",
        "    keep_cross_validation_models=False,\n",
        "    keep_cross_validation_fold_assignment=True,\n",
        "    sort_metric='logloss',\n",
        "    export_checkpoints_dir=None,\n",
        "    verbosity='warn',\n",
        ")"
      ],
      "execution_count": 0,
      "outputs": [
        {
          "output_type": "stream",
          "text": [
            "Parse progress: |█████████████████████████████████████████████████████████| 100%\n",
            "Parse progress: |█████████████████████████████████████████████████████████| 100%\n"
          ],
          "name": "stdout"
        }
      ]
    },
    {
      "cell_type": "code",
      "metadata": {
        "id": "u7paCsppbIU6",
        "colab_type": "code",
        "outputId": "43908b57-78a6-441b-cef6-75f23f81a869",
        "colab": {
          "base_uri": "https://localhost:8080/",
          "height": 105
        }
      },
      "source": [
        "aml.train(x = x, y = y, training_frame = train, validation_frame=valid)"
      ],
      "execution_count": 0,
      "outputs": [
        {
          "output_type": "stream",
          "text": [
            "AutoML progress: |\n",
            "06:30:51.104: User specified a validation frame with cross-validation still enabled. Please note that the models will still be validated using cross-validation only, the validation frame will be used to provide purely informative validation metrics on the trained models.\n",
            "\n",
            "████████████████████████████████████████████████████████| 100%\n"
          ],
          "name": "stdout"
        }
      ]
    },
    {
      "cell_type": "code",
      "metadata": {
        "id": "SKpA0MyubITl",
        "colab_type": "code",
        "outputId": "aa994db0-c163-458f-c5c4-5c68f4658a5f",
        "colab": {
          "base_uri": "https://localhost:8080/",
          "height": 250
        }
      },
      "source": [
        "lb = aml.leaderboard\n",
        "lb"
      ],
      "execution_count": 0,
      "outputs": [
        {
          "output_type": "display_data",
          "data": {
            "text/html": [
              "<table>\n",
              "<thead>\n",
              "<tr><th>model_id                                           </th><th style=\"text-align: right;\">  logloss</th><th style=\"text-align: right;\">     auc</th><th style=\"text-align: right;\">   aucpr</th><th style=\"text-align: right;\">  mean_per_class_error</th><th style=\"text-align: right;\">    rmse</th><th style=\"text-align: right;\">     mse</th></tr>\n",
              "</thead>\n",
              "<tbody>\n",
              "<tr><td>GBM_grid__1_AutoML_20200524_063051_model_4         </td><td style=\"text-align: right;\"> 0.51935 </td><td style=\"text-align: right;\">0.803964</td><td style=\"text-align: right;\">0.872211</td><td style=\"text-align: right;\">              0.293386</td><td style=\"text-align: right;\">0.417057</td><td style=\"text-align: right;\">0.173936</td></tr>\n",
              "<tr><td>GBM_grid__1_AutoML_20200524_063051_model_7         </td><td style=\"text-align: right;\"> 0.523714</td><td style=\"text-align: right;\">0.797184</td><td style=\"text-align: right;\">0.86955 </td><td style=\"text-align: right;\">              0.314787</td><td style=\"text-align: right;\">0.420407</td><td style=\"text-align: right;\">0.176742</td></tr>\n",
              "<tr><td>StackedEnsemble_BestOfFamily_AutoML_20200524_063051</td><td style=\"text-align: right;\"> 0.52393 </td><td style=\"text-align: right;\">0.801996</td><td style=\"text-align: right;\">0.869667</td><td style=\"text-align: right;\">              0.273226</td><td style=\"text-align: right;\">0.417319</td><td style=\"text-align: right;\">0.174155</td></tr>\n",
              "<tr><td>DRF_1_AutoML_20200524_063051                       </td><td style=\"text-align: right;\"> 0.526643</td><td style=\"text-align: right;\">0.802028</td><td style=\"text-align: right;\">0.869004</td><td style=\"text-align: right;\">              0.292558</td><td style=\"text-align: right;\">0.420603</td><td style=\"text-align: right;\">0.176907</td></tr>\n",
              "<tr><td>GBM_grid__1_AutoML_20200524_063051_model_2         </td><td style=\"text-align: right;\"> 0.526677</td><td style=\"text-align: right;\">0.794187</td><td style=\"text-align: right;\">0.868575</td><td style=\"text-align: right;\">              0.319413</td><td style=\"text-align: right;\">0.42151 </td><td style=\"text-align: right;\">0.177671</td></tr>\n",
              "<tr><td>StackedEnsemble_AllModels_AutoML_20200524_063051   </td><td style=\"text-align: right;\"> 0.527251</td><td style=\"text-align: right;\">0.799746</td><td style=\"text-align: right;\">0.868962</td><td style=\"text-align: right;\">              0.260218</td><td style=\"text-align: right;\">0.419125</td><td style=\"text-align: right;\">0.175666</td></tr>\n",
              "<tr><td>XRT_1_AutoML_20200524_063051                       </td><td style=\"text-align: right;\"> 0.528022</td><td style=\"text-align: right;\">0.800468</td><td style=\"text-align: right;\">0.867501</td><td style=\"text-align: right;\">              0.313938</td><td style=\"text-align: right;\">0.420214</td><td style=\"text-align: right;\">0.17658 </td></tr>\n",
              "<tr><td>GBM_2_AutoML_20200524_063051                       </td><td style=\"text-align: right;\"> 0.532369</td><td style=\"text-align: right;\">0.793704</td><td style=\"text-align: right;\">0.862507</td><td style=\"text-align: right;\">              0.363074</td><td style=\"text-align: right;\">0.423278</td><td style=\"text-align: right;\">0.179164</td></tr>\n",
              "<tr><td>GBM_grid__1_AutoML_20200524_063051_model_3         </td><td style=\"text-align: right;\"> 0.532992</td><td style=\"text-align: right;\">0.790643</td><td style=\"text-align: right;\">0.863541</td><td style=\"text-align: right;\">              0.289216</td><td style=\"text-align: right;\">0.423707</td><td style=\"text-align: right;\">0.179528</td></tr>\n",
              "<tr><td>GBM_grid__1_AutoML_20200524_063051_model_8         </td><td style=\"text-align: right;\"> 0.534536</td><td style=\"text-align: right;\">0.785279</td><td style=\"text-align: right;\">0.860533</td><td style=\"text-align: right;\">              0.273661</td><td style=\"text-align: right;\">0.424312</td><td style=\"text-align: right;\">0.180041</td></tr>\n",
              "</tbody>\n",
              "</table>"
            ]
          },
          "metadata": {
            "tags": []
          }
        },
        {
          "output_type": "execute_result",
          "data": {
            "text/plain": [
              ""
            ]
          },
          "metadata": {
            "tags": []
          },
          "execution_count": 66
        }
      ]
    },
    {
      "cell_type": "code",
      "metadata": {
        "id": "lRPVGhFIdzCe",
        "colab_type": "code",
        "outputId": "5fd79f96-72c9-40f2-d0c5-fd8ed21b8563",
        "colab": {
          "base_uri": "https://localhost:8080/",
          "height": 34
        }
      },
      "source": [
        "pred_df = aml.leader.predict(testing_df)"
      ],
      "execution_count": 0,
      "outputs": [
        {
          "output_type": "stream",
          "text": [
            "gbm prediction progress: |████████████████████████████████████████████████| 100%\n"
          ],
          "name": "stdout"
        }
      ]
    },
    {
      "cell_type": "code",
      "metadata": {
        "id": "A-myPctweF-S",
        "colab_type": "code",
        "colab": {}
      },
      "source": [
        "final_submission = pd.DataFrame(columns=ss.columns,index=test_data.index)\n",
        "final_submission['index'] = np.arange(0,583)\n",
        "for i in range(len(final_submission)):\n",
        "  if final_submission.iloc[i]['index'] in idx_test:\n",
        "    final_submission.iloc[i] = [0.9999,0.0001,i]\n",
        "\n",
        "for i in range(len(final_submission)):\n",
        "  if final_submission.iloc[i]['index'] in test_pre['index'].values.tolist():\n",
        "    found_index = test_pre[test_pre['index'] == final_submission.iloc[i]['index']].index.values[0]\n",
        "    pred_df_pandas = pred_df[['p1','p2']].as_data_frame()\n",
        "    final_submission.iloc[i] = [pred_df_pandas.iloc[found_index]['p1'],pred_df_pandas.iloc[found_index]['p2'],i]"
      ],
      "execution_count": 0,
      "outputs": []
    },
    {
      "cell_type": "code",
      "metadata": {
        "id": "r1WlFBxugVy_",
        "colab_type": "code",
        "colab": {}
      },
      "source": [
        "final_submission.drop(['index'],axis=1,inplace=True)\n",
        "final_submission.to_excel('Submission_16_GBM_FE.xlsx',index=False)"
      ],
      "execution_count": 0,
      "outputs": []
    },
    {
      "cell_type": "markdown",
      "metadata": {
        "id": "QWerBkzU-m-e",
        "colab_type": "text"
      },
      "source": [
        "# Overview of my competition submission details\n",
        "1. Basemodel with 5 fold lgbm gives score around 0.29051\n",
        "2. GBM gives 0.27956 on public leaderboard\n",
        "3. X_components are removed and AutoML GBM score is 0.25453(sudden jump in score is huge here) -- this without using feat1.\n",
        "4. Sub 4: Sub3 is changed with one extra condition that gradeAComp1*thickness > 300 gives class 2, score is 0.25337.\n",
        "\n",
        "This put me in Leaderboard 4 in public, Some mistake has happend which i didnt know even now why my private leaderboard is worse. I would like to know if any of you wrong in my approach"
      ]
    }
  ]
}